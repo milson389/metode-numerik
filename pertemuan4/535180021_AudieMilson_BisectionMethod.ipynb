{
  "nbformat": 4,
  "nbformat_minor": 0,
  "metadata": {
    "colab": {
      "name": "535180021_AudieMilson_TugasBisectionMethod.ipynb",
      "provenance": [],
      "collapsed_sections": []
    },
    "kernelspec": {
      "name": "python3",
      "display_name": "Python 3"
    }
  },
  "cells": [
    {
      "cell_type": "code",
      "metadata": {
        "id": "omwTZ6Zpqraf",
        "colab_type": "code",
        "colab": {
          "base_uri": "https://localhost:8080/",
          "height": 1000
        },
        "outputId": "6dc34c25-7963-4f16-f370-1eb0abf68f36"
      },
      "source": [
        "# Audie Milson ( 535180021 )\n",
        "import math\n",
        "import numpy as np\n",
        "import matplotlib.pyplot as plt\n",
        "\n",
        "\n",
        "e = math.exp(1)\n",
        "\n",
        "\n",
        "def func(x):\n",
        "    return 0.5*x*(e**x**0.5)-2\n",
        "\n",
        "\n",
        "def dapetXr(a, b):\n",
        "    return (a+b)/2\n",
        "\n",
        "\n",
        "xi = 1\n",
        "xu = 2\n",
        "xr = dapetXr(xi, xu)\n",
        "es = 0.01\n",
        "ea = 1\n",
        "hasil = xi\n",
        "iterasi = 1\n",
        "listIterasi = [1]\n",
        "listXr = [xr]\n",
        "listError = [100]\n",
        "\n",
        "print('iterasi ke ', iterasi)\n",
        "print('hasil : ', xr)\n",
        "print('tingkat error : ')\n",
        "print()\n",
        "\n",
        "while(ea >= es):\n",
        "\n",
        "    prevXr = xr\n",
        "    # Evaluasi\n",
        "    if(func(xi)*func(xr) < 0):\n",
        "        xu = xr\n",
        "    elif (func(xi)*func(xr) > 0):\n",
        "        xi = xr\n",
        "    else:\n",
        "        xr = xr\n",
        "\n",
        "    xr = dapetXr(xi, xu)\n",
        "\n",
        "    ea = abs(((xr - prevXr)/xr))*100\n",
        "    print('iterasi ke ', iterasi+1)\n",
        "    print('hasil : ', xr)\n",
        "    print('tingkat error : ', ea, '%')\n",
        "    print()\n",
        "\n",
        "    iterasi += 1\n",
        "    listIterasi.append(iterasi)\n",
        "    listXr.append(xr)\n",
        "    listError.append(ea)\n",
        "\n",
        "\n",
        "# Plot 1\n",
        "plt.plot(listIterasi, listXr, 'b-o')\n",
        "plt.title('Akar persamaan f(x) = 1/2 xe^(x^(1/2) )-2')\n",
        "plt.ylabel('Xr')\n",
        "plt.yticks([1.3, 1.4, 1.5])\n",
        "plt.show()\n",
        "\n",
        "# Plot 2\n",
        "plt.plot(listIterasi, listError, 'r--o')\n",
        "plt.ylabel('Error (%)')\n",
        "plt.xlabel('Iterasi')\n",
        "plt.yticks([0, 50, 100])\n",
        "plt.show()\n"
      ],
      "execution_count": 1,
      "outputs": [
        {
          "output_type": "stream",
          "text": [
            "iterasi ke  1\n",
            "hasil :  1.5\n",
            "tingkat error : \n",
            "\n",
            "iterasi ke  2\n",
            "hasil :  1.25\n",
            "tingkat error :  20.0 %\n",
            "\n",
            "iterasi ke  3\n",
            "hasil :  1.375\n",
            "tingkat error :  9.090909090909092 %\n",
            "\n",
            "iterasi ke  4\n",
            "hasil :  1.3125\n",
            "tingkat error :  4.761904761904762 %\n",
            "\n",
            "iterasi ke  5\n",
            "hasil :  1.28125\n",
            "tingkat error :  2.4390243902439024 %\n",
            "\n",
            "iterasi ke  6\n",
            "hasil :  1.296875\n",
            "tingkat error :  1.2048192771084338 %\n",
            "\n",
            "iterasi ke  7\n",
            "hasil :  1.2890625\n",
            "tingkat error :  0.6060606060606061 %\n",
            "\n",
            "iterasi ke  8\n",
            "hasil :  1.28515625\n",
            "tingkat error :  0.303951367781155 %\n",
            "\n",
            "iterasi ke  9\n",
            "hasil :  1.287109375\n",
            "tingkat error :  0.15174506828528073 %\n",
            "\n",
            "iterasi ke  10\n",
            "hasil :  1.2861328125\n",
            "tingkat error :  0.07593014426727411 %\n",
            "\n",
            "iterasi ke  11\n",
            "hasil :  1.28662109375\n",
            "tingkat error :  0.03795066413662239 %\n",
            "\n",
            "iterasi ke  12\n",
            "hasil :  1.286376953125\n",
            "tingkat error :  0.01897893338394382 %\n",
            "\n",
            "iterasi ke  13\n",
            "hasil :  1.2864990234375\n",
            "tingkat error :  0.00948856627763545 %\n",
            "\n"
          ],
          "name": "stdout"
        },
        {
          "output_type": "display_data",
          "data": {
            "image/png": "[encoded data removed]",
            "text/plain": [
              "<Figure size 432x288 with 1 Axes>"
            ]
          },
          "metadata": {
            "tags": [],
            "needs_background": "light"
          }
        },
        {
          "output_type": "display_data",
          "data": {
            "image/png": "[encoded data removed]",
            "text/plain": [
              "<Figure size 432x288 with 1 Axes>"
            ]
          },
          "metadata": {
            "tags": [],
            "needs_background": "light"
          }
        }
      ]
    },
    {
      "cell_type": "code",
      "execution_count": null,
      "metadata": {},
      "outputs": [],
      "source": []
    },
    {
      "cell_type": "code",
      "execution_count": null,
      "metadata": {},
      "outputs": [],
      "source": []
    }
  ]
}